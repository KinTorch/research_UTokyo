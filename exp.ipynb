{
 "cells": [
  {
   "cell_type": "code",
   "execution_count": 1,
   "metadata": {},
   "outputs": [],
   "source": [
    "import torch\n",
    "import client\n",
    "from torch.utils.data import DataLoader, Dataset\n",
    "from torchvision import datasets, transforms"
   ]
  },
  {
   "cell_type": "code",
   "execution_count": 3,
   "metadata": {},
   "outputs": [],
   "source": [
    "dataset_train = datasets.CIFAR10('./datasets/cifar10', train = True,download=False, transform=transforms.ToTensor())"
   ]
  },
  {
   "cell_type": "code",
   "execution_count": 21,
   "metadata": {},
   "outputs": [],
   "source": [
    "labels = [y for _, y in dataset_train]\n",
    "ids = [i for i in range(len(dataset_train))]"
   ]
  },
  {
   "cell_type": "code",
   "execution_count": null,
   "metadata": {},
   "outputs": [],
   "source": [
    "import random\n",
    "couples = [(id, label) for id, label in zip(labels,ids)]\n",
    "couples.sort()\n",
    "print(couples)\n",
    "ids = [id for _, id in couples]\n"
   ]
  },
  {
   "cell_type": "code",
   "execution_count": 1,
   "metadata": {},
   "outputs": [],
   "source": [
    "import os"
   ]
  },
  {
   "cell_type": "code",
   "execution_count": null,
   "metadata": {},
   "outputs": [],
   "source": [
    "for r, dirs, files in os.walk('sd'):\n",
    "    for file in files:\n",
    "        if file.endswith(\".png\") and file.stat:\n",
    "            name = os.path.join(r,file)\n",
    "            "
   ]
  },
  {
   "cell_type": "code",
   "execution_count": 4,
   "metadata": {},
   "outputs": [
    {
     "name": "stdout",
     "output_type": "stream",
     "text": [
      "Downloading http://ufldl.stanford.edu/housenumbers/train_32x32.mat to ./datasets/svhn/train_32x32.mat\n"
     ]
    },
    {
     "data": {
      "application/vnd.jupyter.widget-view+json": {
       "model_id": "116e791f1c3f4d3bb3c7035ecfcfd43e",
       "version_major": 2,
       "version_minor": 0
      },
      "text/plain": [
       "  0%|          | 0/182040794 [00:00<?, ?it/s]"
      ]
     },
     "metadata": {},
     "output_type": "display_data"
    },
    {
     "data": {
      "text/plain": [
       "Dataset SVHN\n",
       "    Number of datapoints: 73257\n",
       "    Root location: ./datasets/svhn\n",
       "    Split: train\n",
       "    StandardTransform\n",
       "Transform: ToTensor()"
      ]
     },
     "execution_count": 4,
     "metadata": {},
     "output_type": "execute_result"
    }
   ],
   "source": [
    "datasets.SVHN('./datasets/svhn', split = 'train', transform=transforms.ToTensor(), download = True)"
   ]
  },
  {
   "cell_type": "code",
   "execution_count": 5,
   "metadata": {},
   "outputs": [
    {
     "name": "stdout",
     "output_type": "stream",
     "text": [
      "Downloading http://ufldl.stanford.edu/housenumbers/test_32x32.mat to ./datasets/svhn/test_32x32.mat\n"
     ]
    },
    {
     "data": {
      "application/vnd.jupyter.widget-view+json": {
       "model_id": "e097a854c4d7484985eb6a2467d4d381",
       "version_major": 2,
       "version_minor": 0
      },
      "text/plain": [
       "  0%|          | 0/64275384 [00:00<?, ?it/s]"
      ]
     },
     "metadata": {},
     "output_type": "display_data"
    },
    {
     "data": {
      "text/plain": [
       "Dataset SVHN\n",
       "    Number of datapoints: 26032\n",
       "    Root location: ./datasets/svhn\n",
       "    Split: test\n",
       "    StandardTransform\n",
       "Transform: ToTensor()"
      ]
     },
     "execution_count": 5,
     "metadata": {},
     "output_type": "execute_result"
    }
   ],
   "source": [
    "datasets.SVHN('./datasets/svhn', split = 'test', transform=transforms.ToTensor(), download = True)"
   ]
  },
  {
   "cell_type": "code",
   "execution_count": 50,
   "metadata": {},
   "outputs": [],
   "source": [
    "transform = transforms.Compose([transforms.Resize(32),transforms.Grayscale(\n",
    "    num_output_channels=3)])\n",
    "data1 = datasets.MNIST('./datasets/mnist', train=True,\n",
    "                        transform=transform, download=False)"
   ]
  },
  {
   "cell_type": "code",
   "execution_count": 51,
   "metadata": {},
   "outputs": [
    {
     "data": {
      "text/plain": [
       "60000"
      ]
     },
     "execution_count": 51,
     "metadata": {},
     "output_type": "execute_result"
    }
   ],
   "source": [
    "len(data1)\n"
   ]
  },
  {
   "cell_type": "code",
   "execution_count": 52,
   "metadata": {},
   "outputs": [],
   "source": [
    "data2 = datasets.SVHN(\n",
    "                './datasets/svhn', split='train', download=False)"
   ]
  },
  {
   "cell_type": "code",
   "execution_count": 53,
   "metadata": {},
   "outputs": [
    {
     "data": {
      "text/plain": [
       "73257"
      ]
     },
     "execution_count": 53,
     "metadata": {},
     "output_type": "execute_result"
    }
   ],
   "source": [
    "len(data2)"
   ]
  },
  {
   "cell_type": "code",
   "execution_count": 66,
   "metadata": {},
   "outputs": [],
   "source": [
    "\n",
    "\n",
    "class mixed_dataset(Dataset):\n",
    "    def __init__(self, *datasets):\n",
    "        self.len = 0\n",
    "        print(datasets)\n",
    "        for data in datasets:\n",
    "            self.len += len(data)\n",
    "\n",
    "        self.datasets = datasets\n",
    "\n",
    "    def __len__(self):\n",
    "        return self.len\n",
    "\n",
    "    def __getitem__(self, k):\n",
    "        datasets = self.datasets\n",
    "\n",
    "        for data in datasets:\n",
    "            if k >= len(data):\n",
    "                k -= len(data)\n",
    "            else:\n",
    "                x = data[k][0]\n",
    "                y = data[k][1]\n",
    "                break\n",
    "\n",
    "        return x, y"
   ]
  },
  {
   "cell_type": "code",
   "execution_count": 71,
   "metadata": {},
   "outputs": [
    {
     "name": "stdout",
     "output_type": "stream",
     "text": [
      "(Dataset SVHN\n",
      "    Number of datapoints: 73257\n",
      "    Root location: ./datasets/svhn\n",
      "    Split: train, Dataset MNIST\n",
      "    Number of datapoints: 60000\n",
      "    Root location: ./datasets/mnist\n",
      "    Split: Train\n",
      "    StandardTransform\n",
      "Transform: Compose(\n",
      "               Resize(size=32, interpolation=bilinear, max_size=None, antialias=None)\n",
      "               Grayscale(num_output_channels=3)\n",
      "           ))\n"
     ]
    }
   ],
   "source": [
    "data_mixed = []\n",
    "data_list = ['mnist', 'svhn']\n",
    "\n",
    "if 'cifar10' in data_list:\n",
    "    data_mixed.append(datasets.CIFAR10(\n",
    "        './datasets/cifar10', train=True, download=False))\n",
    "\n",
    "if 'svhn' in data_list:\n",
    "    data_mixed.append(datasets.SVHN(\n",
    "        './datasets/svhn', split='train',  download=False))\n",
    "\n",
    "if 'mnist' in data_list:\n",
    "    transform = transforms.Compose([transforms.Resize(32), transforms.Grayscale(\n",
    "        num_output_channels=3)])\n",
    "    data_mixed.append(datasets.MNIST(\n",
    "        './datasets/mnist', train=True, transform=transform, download=False))\n",
    "\n",
    "\n",
    "else:\n",
    "    raise 'No dataset'\n",
    "\n",
    "dataset_train = mixed_dataset(*data_mixed)"
   ]
  },
  {
   "cell_type": "code",
   "execution_count": 76,
   "metadata": {},
   "outputs": [
    {
     "data": {
      "image/png": "[encoded data removed]",
      "text/plain": [
       "<PIL.Image.Image image mode=RGB size=32x32>"
      ]
     },
     "execution_count": 76,
     "metadata": {},
     "output_type": "execute_result"
    }
   ],
   "source": [
    "dataset_train[32569][0]"
   ]
  },
  {
   "cell_type": "code",
   "execution_count": null,
   "metadata": {},
   "outputs": [],
   "source": []
  }
 ],
 "metadata": {
  "interpreter": {
   "hash": "31f2aee4e71d21fbe5cf8b01ff0e069b9275f58929596ceb00d14d90e3e16cd6"
  },
  "kernelspec": {
   "display_name": "Python 3.8.10 64-bit",
   "language": "python",
   "name": "python3"
  },
  "language_info": {
   "codemirror_mode": {
    "name": "ipython",
    "version": 3
   },
   "file_extension": ".py",
   "mimetype": "text/x-python",
   "name": "python",
   "nbconvert_exporter": "python",
   "pygments_lexer": "ipython3",
   "version": "3.8.10"
  },
  "orig_nbformat": 4
 },
 "nbformat": 4,
 "nbformat_minor": 2
}
